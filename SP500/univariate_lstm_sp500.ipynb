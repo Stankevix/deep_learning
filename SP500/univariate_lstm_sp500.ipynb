{
 "cells": [
  {
   "cell_type": "markdown",
   "id": "realistic-ribbon",
   "metadata": {
    "ExecuteTime": {
     "end_time": "2021-06-22T20:49:37.704865Z",
     "start_time": "2021-06-22T20:49:37.687880Z"
    }
   },
   "source": [
    "# Previção de Downloads"
   ]
  },
  {
   "cell_type": "markdown",
   "id": "downtown-contribution",
   "metadata": {},
   "source": [
    "O neurônio é dividido em 3 componentes principais: \n",
    "\n",
    "* Os dendritos, que são os receptores de sinal, então dos bilhões de neurônios do seu cérebro, todos eles têm receptores, que vão receber estímulos de outros neurônios, então eles recebem os sinais\n",
    "* o corpo processa os sinais recebidos do próprio neurônio e;\n",
    "* axônio transmite o sinal para os próximos neurônios.\n",
    "\n",
    "\n",
    "Redes neurais recorrentes são uma classe de redes neurais que lidam com dados temporais. \n",
    "\n",
    "Long short-term memory (LSTM) tem um fluxo de controle semelhante a uma rede neural recorrente, no sentido de que processa os dados enquanto passa informações à medida que se propagam para frente. A diferença real está nas operações dentro das células da rede de memória de longo prazo. Essas operações permitem que o LSTM mantenha ou esqueça as informações. \n",
    "\n",
    "As LSTMs permitem a retropropagação do erro através do tempo e das camadas, ajudando assim a preservá-los. Um modelo LSTM (Long short-term memory) é uma arquitetura de rede neural recorrente artificial (RNN) que possui conexões de feedback, tornando-a capaz de processar não apenas pontos de dados individuais, mas também sequências inteiras de dados. "
   ]
  },
  {
   "cell_type": "markdown",
   "id": "smart-crystal",
   "metadata": {},
   "source": [
    "## Hiperparametros Relevantes"
   ]
  },
  {
   "cell_type": "markdown",
   "id": "separate-extreme",
   "metadata": {},
   "source": [
    "### Número de nós e Camadas Ocultas\n",
    "\n",
    "As camadas entre as camadas de entrada e saída são chamadas de camadas ocultas. Esse conceito fundamental é o que faz com que as redes de aprendizagem profunda sejam denominadas de “caixa preta”, muitas vezes sendo criticadas por não serem transparentes e suas previsões não serem rastreáveis por humanos.\n",
    "\n",
    "Não há um número final sobre quantos nós (neurônios ocultos) ou camadas ocultas deve-se usar, portanto, dependendo do problema individual (acredite ou não), uma abordagem de tentativa e erro dará os melhores resultados.\n",
    "\n",
    "Como regra geral, uma camada oculta funcionará com a maioria dos problemas simples e duas camadas com os razoavelmente complexos. Além disso, embora muitos nós (com técnicas de regularização) dentro de uma camada possam aumentar a precisão, um número menor de nós pode causar ajuste insuficiente."
   ]
  },
  {
   "cell_type": "markdown",
   "id": "funded-television",
   "metadata": {},
   "source": [
    "### Números de unidades em uma camada densa\n",
    "\n",
    "* Método: model.add (Dense (10, ...))\n",
    "\n",
    "Uma camada densa é a camada mais frequentemente usada, que é basicamente uma camada onde cada neurônio recebe entrada de todos os neurônios na camada anterior - portanto, “densamente conectados”. Camadas densas melhoram a precisão geral e 5 a 10 unidades ou nós por camada é uma boa base. Portanto, a forma de saída da camada densa final será afetada pelo número de neurônios / unidades especificados."
   ]
  },
  {
   "cell_type": "markdown",
   "id": "enormous-radius",
   "metadata": {},
   "source": [
    "###  Dropout\n",
    "\n",
    "* Method: model.add(LSTM(…, dropout=0.5))\n",
    "\n",
    "\n",
    "Cada camada LSTM deve ser acompanhada por uma camada de eliminação (dropout layer). \n",
    "\n",
    "Essa camada ajuda a evitar ajustes excessivos no treinamento, ignorando neurônios selecionados aleatoriamente, reduzindo assim a sensibilidade a pesos específicos de cada neurônio. Embora as camadas dropout possam ser usadas com camadas de entrada, elas não devem ser usadas com camadas de saída, pois isso pode atrapalhar a saída do modelo e o cálculo do erro. \n",
    "\n",
    "Embora, adicionar mais complexidade possa causar o risco de overfitting (aumentando os nós em camadas densas ou adicionando mais número de camadas densas e ter uma precisão de validação mais pobre), isso pode ser resolvido adicionando dropout.\n",
    "\n",
    "Um bom ponto de partida é 20%, mas o valor de dropout deve ser mantido pequeno (até 50%). O valor de 20% é amplamente aceito como o melhor compromisso entre evitar o sobreajuste do modelo e reter a precisão do modelo."
   ]
  },
  {
   "cell_type": "markdown",
   "id": "supported-finish",
   "metadata": {},
   "source": [
    "### Inicialização dos pesos\n",
    "\n",
    "Idealmente, é melhor empregar diferentes esquemas de inicialização de peso de acordo com a função de ativação usada.\n",
    "\n",
    "No entanto, mais comumente, uma distribuição uniforme é usada ao escolher os valores de peso iniciais. Não é possível definir todos os pesos para 0,0, pois a assimetria no gradiente de erro é trazida pelo algoritmo de otimização; para começar a pesquisar com eficácia. \n",
    "\n",
    "Diferentes conjuntos de pesos resultam em diferentes pontos de partida do processo de otimização, podendo levar a diferentes conjuntos finais com diferentes características de desempenho. \n",
    "\n",
    "Os pesos devem finalmente ser inicializados aleatoriamente para números pequenos (uma expectativa do algoritmo de otimização estocástica, também conhecido como descida gradiente estocástica) para aproveitar a aleatoriedade no processo de pesquisa."
   ]
  },
  {
   "cell_type": "markdown",
   "id": "concrete-inspector",
   "metadata": {},
   "source": [
    "### Taxa de Decaimento\n",
    "\n",
    "A redução de peso pode ser incluída na regra de atualização de peso que faz com que os pesos diminuam para zero exponencialmente, se nenhuma outra atualização de peso estiver programada. Após cada atualização, os pesos são multiplicados por um fator um pouco menor que 1, evitando que aumentem muito. Isso especifica a regularização na rede.\n",
    "\n",
    "O valor padrão de 0,97 deve ser suficiente para começar."
   ]
  },
  {
   "cell_type": "markdown",
   "id": "phantom-psychiatry",
   "metadata": {},
   "source": [
    "### Função de Ativação\n",
    "\n",
    "As funções de ativação são o que define a saída de um nó como LIGADA ou DESLIGADA. \n",
    "\n",
    "Essas funções são usadas para introduzir a não linearidade aos modelos, permitindo que os modelos de aprendizado profundo aprendam os limites de predição não lineares. Tecnicamente, as funções de ativação podem ser incluídas nas camadas densas, mas dividi-las em camadas diferentes torna possível recuperar a saída reduzida da camada de densidade.\n",
    "\n",
    "Novamente, a escolha da camada de ativação depende da aplicação, no entanto, a função de ativação do retificador (rectifier) é a mais popular. Situações específicas implicam funções específicas. Por exemplo, a ativação sigmóide é usada na camada de saída para previsões binárias e softmax é usado para fazer previsões multiclasse (softmax dá a capacidade de interpretar as saídas como probabilidades).\n",
    "\n",
    "Método: o processo consiste em criar funções definidas pelo usuário e fazer com que retorne a saída associada a qualquer função de ativação específica. Por exemplo, aqui está uma função de ativação sigmóide:\n",
    "\n",
    "def sigmóide (x):\n",
    "\n",
    "    return 1 / (1 + np.exp (-x))\n",
    "\n",
    "Sigmóide (log-sigmóide) e tangente hiperbólica são algumas das funções de ativação mais populares adotadas em blocos LSTM.\n",
    "\n",
    "Funções mais usadas:\n",
    "* Rectified Linear Activation (ReLU)\n",
    "* Logistic (Sigmoid)\n",
    "* Hyperbolic Tangent (Tanh)"
   ]
  },
  {
   "cell_type": "markdown",
   "id": "complex-argentina",
   "metadata": {},
   "source": [
    "### Taxa de Aprendizagem (Learning Rate)\n",
    "\n",
    "Este hiperparâmetro define a rapidez com que a rede atualiza seus parâmetros. \n",
    "\n",
    "Definir uma taxa de aprendizado mais alta acelera o aprendizado, mas o modelo pode não convergir (um estado durante o treinamento em que a perda se estabelece dentro de uma faixa de erro em torno do valor final), ou mesmo diverge. \n",
    "\n",
    "Por outro lado, uma taxa mais baixa tornará o aprendizado drasticamente mais lento, pois os passos em direção ao mínimo da função de perda serão pequenos, mas permitirão que o modelo convirja suavemente.\n",
    "\n",
    "Normalmente, uma taxa de aprendizagem decrescente é preferida e este hiperparâmetro é usado na fase de treinamento e tem um pequeno valor positivo, principalmente entre 0,0 e 0,1."
   ]
  },
  {
   "cell_type": "markdown",
   "id": "healthy-matrix",
   "metadata": {},
   "source": [
    "### Número de épocas (epochs)\n",
    "\n",
    "Esses hiperparâmetros definem quantas iterações completas do conjunto de dados devem ser executadas. \n",
    "\n",
    "Embora teoricamente esse número possa ser definido como um valor inteiro entre um e infinito, ele deve ser aumentado até que a precisão da validação comece a diminuir, mesmo que a precisão do treinamento aumente (e, portanto, com risco de overfitting).\n",
    "\n",
    "Uma dica é empregar o método de parada antecipada, para primeiro especificar um grande número de períodos de treinamento e interromper o treinamento assim que o desempenho do modelo parar de melhorar por um limite predefinido no conjunto de dados de validação."
   ]
  },
  {
   "cell_type": "markdown",
   "id": "standing-maryland",
   "metadata": {},
   "source": [
    "### Tamanho do Batch\n",
    "\n",
    "Este hiperparâmetro define o número de amostras a serem trabalhadas antes que os parâmetros internos do modelo sejam atualizados. Tamanhos grandes criam grandes degraus de gradiente em comparação com os menores para o mesmo número de amostras “vistas”.\n",
    "\n",
    "Amplamente aceito, um bom valor padrão para o tamanho do lote é 32. Para experimentação, você pode tentar múltiplos de 32, como 64, 128 e 256."
   ]
  },
  {
   "cell_type": "markdown",
   "id": "resident-broad",
   "metadata": {},
   "source": [
    "## Read Data"
   ]
  },
  {
   "cell_type": "code",
   "execution_count": 1,
   "id": "valid-stuart",
   "metadata": {
    "ExecuteTime": {
     "end_time": "2021-07-01T20:25:07.473518Z",
     "start_time": "2021-07-01T20:25:03.754056Z"
    }
   },
   "outputs": [],
   "source": [
    "import pandas as pd\n",
    "import numpy as np\n",
    "import seaborn as sns\n",
    "import matplotlib as mpl\n",
    "import matplotlib.pyplot as plt\n",
    "import math\n",
    "\n",
    "from tensorflow.keras.models import Sequential\n",
    "from keras.layers import Dense, LSTM,GRU, Flatten,Dropout\n",
    "\n",
    "\n",
    "from sklearn.metrics import mean_squared_error"
   ]
  },
  {
   "cell_type": "code",
   "execution_count": 2,
   "id": "recreational-zoning",
   "metadata": {
    "ExecuteTime": {
     "end_time": "2021-07-01T20:25:07.489062Z",
     "start_time": "2021-07-01T20:25:07.475099Z"
    }
   },
   "outputs": [],
   "source": [
    "mpl.rcParams['figure.figsize']=(10,6)\n",
    "mpl.rcParams['font.size']=22\n",
    "sns.set_style('darkgrid')"
   ]
  },
  {
   "cell_type": "code",
   "execution_count": 8,
   "id": "surprising-webmaster",
   "metadata": {
    "ExecuteTime": {
     "end_time": "2021-07-01T20:26:24.913449Z",
     "start_time": "2021-07-01T20:26:24.907465Z"
    }
   },
   "outputs": [],
   "source": [
    "def create_index_datatime(df):\n",
    "    \n",
    "    format = '%Y-%m-%d'\n",
    "    \n",
    "    df['data'] = pd.to_datetime(df['Date'],format=format).dt.date\n",
    "    \n",
    "    df = df.set_index('Date')\n",
    "    \n",
    "    return df"
   ]
  },
  {
   "cell_type": "code",
   "execution_count": 3,
   "id": "departmental-thailand",
   "metadata": {
    "ExecuteTime": {
     "end_time": "2021-07-01T20:25:10.538951Z",
     "start_time": "2021-07-01T20:25:10.532935Z"
    }
   },
   "outputs": [],
   "source": [
    "def split_nlegs(vetor, n_passos):\n",
    "    \"\"\"\n",
    "        Entrada: vetor: numero de Passageiros\n",
    "                 n_passos: numero de passos no regressor\n",
    "        Saida:\n",
    "            X_novo: Array 2D\n",
    "            y_novo: Array 1D - Nosso alvo (target)\n",
    "    \n",
    "    \"\"\"\n",
    "    # Inicializacao dos novos vetores \n",
    "    X_novo, y_novo = [],[]\n",
    "    \n",
    "    #percorrer o vetor de entrada e agregar valores aos novos vetores\n",
    "    for i in range(n_passos, vetor.shape[0]):\n",
    "        X_novo.append(list(vetor.loc[i-n_passos:i-1]))\n",
    "        y_novo.append(vetor.loc[i])\n",
    "    X_novo, y_novo = np.array(X_novo),np.array(y_novo)\n",
    "    \n",
    "    return X_novo, y_novo"
   ]
  },
  {
   "cell_type": "code",
   "execution_count": 4,
   "id": "endangered-union",
   "metadata": {
    "ExecuteTime": {
     "end_time": "2021-07-01T20:25:11.193960Z",
     "start_time": "2021-07-01T20:25:11.173018Z"
    }
   },
   "outputs": [],
   "source": [
    "def reshape_dataframe(y_train, y_test,n_passos):\n",
    "    \n",
    "    vetor_train = pd.DataFrame(y_train)[0]\n",
    "    vetor_test = pd.DataFrame(y_test)[0]\n",
    "\n",
    "    X_train_new, y_train_new = split_nlegs(vetor_train, n_passos)\n",
    "    X_test_new, y_test_new = split_nlegs(vetor_test, n_passos)\n",
    "    \n",
    "    X_train_new = X_train_new.reshape((X_train_new.shape[0],X_train_new.shape[1],1))\n",
    "    X_test_new = X_test_new.reshape((X_test_new.shape[0],X_test_new.shape[1],1))\n",
    "    \n",
    "    print(X_train_new.shape,X_test_new.shape)\n",
    "    \n",
    "    return X_train_new, y_train_new, X_test_new, y_test_new"
   ]
  },
  {
   "cell_type": "code",
   "execution_count": 9,
   "id": "lovely-vietnam",
   "metadata": {
    "ExecuteTime": {
     "end_time": "2021-07-01T20:26:31.948020Z",
     "start_time": "2021-07-01T20:26:31.912109Z"
    }
   },
   "outputs": [],
   "source": [
    "sp500 = create_index_datatime(pd.read_csv('df_sp500.csv'))"
   ]
  },
  {
   "cell_type": "code",
   "execution_count": 10,
   "id": "forty-illness",
   "metadata": {
    "ExecuteTime": {
     "end_time": "2021-07-01T20:26:34.049374Z",
     "start_time": "2021-07-01T20:26:34.017460Z"
    }
   },
   "outputs": [
    {
     "data": {
      "text/html": [
       "<div>\n",
       "<style scoped>\n",
       "    .dataframe tbody tr th:only-of-type {\n",
       "        vertical-align: middle;\n",
       "    }\n",
       "\n",
       "    .dataframe tbody tr th {\n",
       "        vertical-align: top;\n",
       "    }\n",
       "\n",
       "    .dataframe thead th {\n",
       "        text-align: right;\n",
       "    }\n",
       "</style>\n",
       "<table border=\"1\" class=\"dataframe\">\n",
       "  <thead>\n",
       "    <tr style=\"text-align: right;\">\n",
       "      <th></th>\n",
       "      <th>Open</th>\n",
       "      <th>High</th>\n",
       "      <th>Low</th>\n",
       "      <th>Close</th>\n",
       "      <th>Adj Close</th>\n",
       "      <th>Volume</th>\n",
       "      <th>data</th>\n",
       "    </tr>\n",
       "    <tr>\n",
       "      <th>Date</th>\n",
       "      <th></th>\n",
       "      <th></th>\n",
       "      <th></th>\n",
       "      <th></th>\n",
       "      <th></th>\n",
       "      <th></th>\n",
       "      <th></th>\n",
       "    </tr>\n",
       "  </thead>\n",
       "  <tbody>\n",
       "    <tr>\n",
       "      <th>1999-01-04</th>\n",
       "      <td>1229.229980</td>\n",
       "      <td>1248.810059</td>\n",
       "      <td>1219.099976</td>\n",
       "      <td>1228.099976</td>\n",
       "      <td>1228.099976</td>\n",
       "      <td>877000000</td>\n",
       "      <td>1999-01-04</td>\n",
       "    </tr>\n",
       "    <tr>\n",
       "      <th>1999-01-05</th>\n",
       "      <td>1228.099976</td>\n",
       "      <td>1246.109985</td>\n",
       "      <td>1228.099976</td>\n",
       "      <td>1244.780029</td>\n",
       "      <td>1244.780029</td>\n",
       "      <td>775000000</td>\n",
       "      <td>1999-01-05</td>\n",
       "    </tr>\n",
       "    <tr>\n",
       "      <th>1999-01-06</th>\n",
       "      <td>1244.780029</td>\n",
       "      <td>1272.500000</td>\n",
       "      <td>1244.780029</td>\n",
       "      <td>1272.339966</td>\n",
       "      <td>1272.339966</td>\n",
       "      <td>986900000</td>\n",
       "      <td>1999-01-06</td>\n",
       "    </tr>\n",
       "    <tr>\n",
       "      <th>1999-01-07</th>\n",
       "      <td>1272.339966</td>\n",
       "      <td>1272.339966</td>\n",
       "      <td>1257.680054</td>\n",
       "      <td>1269.729980</td>\n",
       "      <td>1269.729980</td>\n",
       "      <td>863000000</td>\n",
       "      <td>1999-01-07</td>\n",
       "    </tr>\n",
       "    <tr>\n",
       "      <th>1999-01-08</th>\n",
       "      <td>1269.729980</td>\n",
       "      <td>1278.239990</td>\n",
       "      <td>1261.819946</td>\n",
       "      <td>1275.089966</td>\n",
       "      <td>1275.089966</td>\n",
       "      <td>937800000</td>\n",
       "      <td>1999-01-08</td>\n",
       "    </tr>\n",
       "  </tbody>\n",
       "</table>\n",
       "</div>"
      ],
      "text/plain": [
       "                   Open         High          Low        Close    Adj Close  \\\n",
       "Date                                                                          \n",
       "1999-01-04  1229.229980  1248.810059  1219.099976  1228.099976  1228.099976   \n",
       "1999-01-05  1228.099976  1246.109985  1228.099976  1244.780029  1244.780029   \n",
       "1999-01-06  1244.780029  1272.500000  1244.780029  1272.339966  1272.339966   \n",
       "1999-01-07  1272.339966  1272.339966  1257.680054  1269.729980  1269.729980   \n",
       "1999-01-08  1269.729980  1278.239990  1261.819946  1275.089966  1275.089966   \n",
       "\n",
       "               Volume        data  \n",
       "Date                               \n",
       "1999-01-04  877000000  1999-01-04  \n",
       "1999-01-05  775000000  1999-01-05  \n",
       "1999-01-06  986900000  1999-01-06  \n",
       "1999-01-07  863000000  1999-01-07  \n",
       "1999-01-08  937800000  1999-01-08  "
      ]
     },
     "execution_count": 10,
     "metadata": {},
     "output_type": "execute_result"
    }
   ],
   "source": [
    "sp500.head()"
   ]
  },
  {
   "cell_type": "code",
   "execution_count": 11,
   "id": "downtown-leader",
   "metadata": {
    "ExecuteTime": {
     "end_time": "2021-07-01T20:26:44.694429Z",
     "start_time": "2021-07-01T20:26:44.686451Z"
    }
   },
   "outputs": [],
   "source": [
    "target = 'Close'"
   ]
  },
  {
   "cell_type": "code",
   "execution_count": 12,
   "id": "continuing-uniform",
   "metadata": {
    "ExecuteTime": {
     "end_time": "2021-07-01T20:26:54.392177Z",
     "start_time": "2021-07-01T20:26:54.181613Z"
    }
   },
   "outputs": [
    {
     "data": {
      "image/png": "[encoded data removed]",
      "text/plain": [
       "<Figure size 720x360 with 1 Axes>"
      ]
     },
     "metadata": {},
     "output_type": "display_data"
    }
   ],
   "source": [
    "sp500[target].plot(figsize=(10,5))\n",
    "plt.xticks(rotation=70)\n",
    "plt.show()"
   ]
  },
  {
   "cell_type": "markdown",
   "id": "wired-obligation",
   "metadata": {},
   "source": [
    "### Scaling "
   ]
  },
  {
   "cell_type": "code",
   "execution_count": 13,
   "id": "weekly-tobacco",
   "metadata": {
    "ExecuteTime": {
     "end_time": "2021-07-01T20:27:34.466160Z",
     "start_time": "2021-07-01T20:27:34.452187Z"
    }
   },
   "outputs": [],
   "source": [
    "df = sp500[target]"
   ]
  },
  {
   "cell_type": "code",
   "execution_count": 14,
   "id": "lonely-worst",
   "metadata": {
    "ExecuteTime": {
     "end_time": "2021-07-01T20:27:38.152257Z",
     "start_time": "2021-07-01T20:27:38.146275Z"
    }
   },
   "outputs": [],
   "source": [
    "from sklearn.preprocessing import MinMaxScaler\n",
    "\n",
    "scaler = MinMaxScaler(feature_range=(0,1))\n",
    "df_scaled = scaler.fit_transform(np.array(df).reshape(-1,1))"
   ]
  },
  {
   "cell_type": "code",
   "execution_count": 15,
   "id": "adjustable-constitution",
   "metadata": {
    "ExecuteTime": {
     "end_time": "2021-07-01T20:27:40.166711Z",
     "start_time": "2021-07-01T20:27:40.148770Z"
    }
   },
   "outputs": [
    {
     "data": {
      "text/plain": [
       "(5031, 1)"
      ]
     },
     "execution_count": 15,
     "metadata": {},
     "output_type": "execute_result"
    }
   ],
   "source": [
    "df_scaled.shape"
   ]
  },
  {
   "cell_type": "markdown",
   "id": "transsexual-implementation",
   "metadata": {},
   "source": [
    "### Reshape Time series"
   ]
  },
  {
   "cell_type": "code",
   "execution_count": 62,
   "id": "indoor-luxury",
   "metadata": {
    "ExecuteTime": {
     "end_time": "2021-07-01T22:00:51.542044Z",
     "start_time": "2021-07-01T22:00:51.537058Z"
    }
   },
   "outputs": [],
   "source": [
    "train = df_scaled[0:4000]\n",
    "test = df_scaled[4000:]"
   ]
  },
  {
   "cell_type": "code",
   "execution_count": 63,
   "id": "conceptual-excess",
   "metadata": {
    "ExecuteTime": {
     "end_time": "2021-07-01T22:00:52.310155Z",
     "start_time": "2021-07-01T22:00:52.303174Z"
    }
   },
   "outputs": [
    {
     "data": {
      "text/plain": [
       "(4000, 1031)"
      ]
     },
     "execution_count": 63,
     "metadata": {},
     "output_type": "execute_result"
    }
   ],
   "source": [
    "len(train), len(test)"
   ]
  },
  {
   "cell_type": "code",
   "execution_count": 65,
   "id": "weighted-connection",
   "metadata": {
    "ExecuteTime": {
     "end_time": "2021-07-01T22:01:02.060196Z",
     "start_time": "2021-07-01T22:01:01.544530Z"
    }
   },
   "outputs": [
    {
     "name": "stdout",
     "output_type": "stream",
     "text": [
      "(3986, 14, 1) (1017, 14, 1)\n"
     ]
    }
   ],
   "source": [
    "n_passos = 14\n",
    "\n",
    "X_train, y_train, X_test, y_test = reshape_dataframe(train, test, n_passos)"
   ]
  },
  {
   "cell_type": "markdown",
   "id": "graduate-scout",
   "metadata": {},
   "source": [
    "## Building LSTM Models"
   ]
  },
  {
   "cell_type": "markdown",
   "id": "functional-piece",
   "metadata": {},
   "source": [
    "A rede neural Long Short-Term Memory, ou rede LSTM, é uma rede neural recorrente que é treinada usando Backpropagation Through Time. Como tal, ela pode ser usado para criar grandes redes recorrentes que, por sua vez, podem ser usadas para resolver problemas de difíceis sequências em aprendizado de máquina.\n",
    "\n",
    "Em vez de neurônios, as redes LSTM têm blocos de memória que são conectados por meio de camadas.\n",
    "\n",
    "Um bloco possui componentes que o tornam mais inteligente do que um neurônio clássico e uma memória para sequências recentes. Um bloco contém portas que gerenciam o estado e a saída do bloco, e este bloco opera em uma sequência de entrada e cada porta dentro de um bloco usa as unidades de ativação sigmóide para controlar se elas são disparadas ou não, tornando a mudança de estado e adição de informações que fluem através do bloco condicional.\n",
    "\n",
    "Existem três tipos de portas dentro de uma unidade:\n",
    "\n",
    "* Forget Gate: decide condicionalmente quais informações jogar fora do bloco.\n",
    "* Porta de entrada: decide condicionalmente quais valores da entrada atualizar o estado da memória.\n",
    "* Porta de saída: decide condicionalmente o que produzir com base na entrada e na memória do bloco.\n",
    "\n",
    "Cada unidade é como uma mini-máquina de estados onde os portões das unidades possuem pesos que são aprendidos durante o procedimento de treinamento."
   ]
  },
  {
   "cell_type": "markdown",
   "id": "aggressive-overhead",
   "metadata": {},
   "source": [
    "**Vanilla LSTM**\n",
    "\n",
    "Um Vanilla LSTM é um modelo LSTM que possui uma única camada oculta de unidades LSTM e uma camada de saída usada para fazer uma previsão. A chave da definição é a forma da entrada, isso é o que o modelo espera como entrada para cada amostra em termos do número de etapas de tempo e do número de features.\n",
    "\n",
    "Estamos trabalhando com uma série univariada, então o número de recursos é um, para uma variável.\n",
    "\n",
    "* model = Sequential()\n",
    "* model.add(LSTM(50, activation='relu', input_shape=(n_steps, n_features)))\n",
    "* model.add(Dense(1))\n",
    "* model.compile(optimizer='adam', loss='mse')"
   ]
  },
  {
   "cell_type": "markdown",
   "id": "distinct-humanitarian",
   "metadata": {},
   "source": [
    "**Stacked LSTM**\n",
    "\n",
    "Múltiplas camadas ocultas do LSTM  podem ser empilhadas uma sobre a outra, no que é conhecido como modelo LSTM Empilhado.\n",
    "\n",
    "Uma camada LSTM requer uma entrada tridimensional e LSTMs por padrão produzirão uma saída bidimensional como uma interpretação do final da sequência.\n",
    "\n",
    "Podemos resolver isso fazendo com que o LSTM produza um valor para cada intervalo de tempo nos dados de entrada, definindo o argumento return_sequences = True na camada. Isso nos permite ter uma saída 3D da camada LSTM oculta como entrada para a próxima.\n",
    "\n",
    "* model = Sequential()\n",
    "* model.add(LSTM(50, activation='relu', return_sequences=True, input_shape=(n_steps, n_features)))\n",
    "* model.add(LSTM(50, activation='relu'))\n",
    "* model.add(Dense(1))\n",
    "* model.compile(optimizer='adam', loss='mse')\n"
   ]
  },
  {
   "cell_type": "markdown",
   "id": "abroad-compromise",
   "metadata": {},
   "source": [
    "**LSTM bidirecional**\n",
    "\n",
    "Em alguns problemas de predição, pode ser benéfico permitir que o modelo LSTM aprenda a sequência de entrada tanto para frente quanto para trás e concatenar ambas as interpretações.\n",
    "\n",
    "Isso é chamado de LSTM bidirecional.\n",
    "\n",
    "Podemos implementar um LSTM Bidirecional para previsão de série temporal univariada envolvendo a primeira camada oculta em uma camada de invólucro chamada Bidirecional.\n",
    "\n",
    "\n",
    "* model = Sequential()\n",
    "* model.add(Bidirectional(LSTM(50, activation='relu'), input_shape=(n_steps, n_features)))\n",
    "* model.add(Dense(1))\n",
    "* model.compile(optimizer='adam', loss='mse')"
   ]
  },
  {
   "cell_type": "code",
   "execution_count": 73,
   "id": "freelance-factory",
   "metadata": {
    "ExecuteTime": {
     "end_time": "2021-07-01T22:03:40.070600Z",
     "start_time": "2021-07-01T22:03:40.055641Z"
    }
   },
   "outputs": [],
   "source": [
    "def build_model(X_train,y_train,X_test,y_test,name):\n",
    "    \n",
    "    '''\n",
    "    This function build the Feed Forward Neural Network model with a variable number of nodes.\n",
    "    '''\n",
    "    #input_dim=lags, activation=activation_func\n",
    "    \n",
    "    model = Sequential()\n",
    "    \n",
    "    if(name == 'gru'):\n",
    "        model.add(GRU(128, input_shape=(X_train.shape[1],X_train.shape[2])))\n",
    "        model.add(Dense(1))\n",
    "        model.compile(loss='mse', optimizer='RMSProp')\n",
    "\n",
    "        history = model.fit(X_train, y_train,validation_data=(X_test,y_test),\n",
    "                            epochs=300,verbose=1)\n",
    "\n",
    "        model.summary()\n",
    "        \n",
    "    else:\n",
    "        model.add(LSTM(256, activation ='relu', return_sequences=True, input_shape=(X_train.shape[1],X_train.shape[2])))\n",
    "        model.add(Dense(128,activation ='relu'))\n",
    "        model.add(Dropout(0.2))\n",
    "        model.add(Dense(64,activation ='relu'))\n",
    "        model.add(Dropout(0.2))\n",
    "        model.add(Dense(10,activation ='relu'))\n",
    "        model.add(Dense(1))\n",
    "        model.compile(loss='mse', optimizer='RMSProp') #adam, RMSProp\n",
    "\n",
    "        history = model.fit(X_train, y_train,\n",
    "                            validation_data=(X_test,y_test),validation_split=0.2,\n",
    "                            epochs=100,verbose=1)\n",
    "\n",
    "        model.summary()\n",
    "    \n",
    "    return model,history"
   ]
  },
  {
   "cell_type": "code",
   "execution_count": 74,
   "id": "naval-serial",
   "metadata": {
    "ExecuteTime": {
     "end_time": "2021-07-01T22:08:36.570363Z",
     "start_time": "2021-07-01T22:03:40.965071Z"
    }
   },
   "outputs": [
    {
     "name": "stdout",
     "output_type": "stream",
     "text": [
      "Epoch 1/100\n",
      "100/100 [==============================] - 5s 38ms/step - loss: 0.0042 - val_loss: 0.0075\n",
      "Epoch 2/100\n",
      "100/100 [==============================] - 3s 33ms/step - loss: 0.0012 - val_loss: 0.0034\n",
      "Epoch 3/100\n",
      "100/100 [==============================] - 3s 32ms/step - loss: 8.4990e-04 - val_loss: 0.0046\n",
      "Epoch 4/100\n",
      "100/100 [==============================] - 3s 33ms/step - loss: 7.2536e-04 - val_loss: 0.0050\n",
      "Epoch 5/100\n",
      "100/100 [==============================] - 4s 36ms/step - loss: 6.5776e-04 - val_loss: 0.0036\n",
      "Epoch 6/100\n",
      "100/100 [==============================] - 3s 34ms/step - loss: 5.8525e-04 - val_loss: 0.0042\n",
      "Epoch 7/100\n",
      "100/100 [==============================] - 3s 33ms/step - loss: 5.5951e-04 - val_loss: 0.0035\n",
      "Epoch 8/100\n",
      "100/100 [==============================] - 3s 31ms/step - loss: 5.2782e-04 - val_loss: 0.0010\n",
      "Epoch 9/100\n",
      "100/100 [==============================] - 3s 30ms/step - loss: 5.0604e-04 - val_loss: 0.0027\n",
      "Epoch 10/100\n",
      "100/100 [==============================] - 3s 29ms/step - loss: 4.8759e-04 - val_loss: 0.0013\n",
      "Epoch 11/100\n",
      "100/100 [==============================] - 3s 30ms/step - loss: 4.8547e-04 - val_loss: 0.0018\n",
      "Epoch 12/100\n",
      "100/100 [==============================] - 3s 30ms/step - loss: 4.5733e-04 - val_loss: 0.0025\n",
      "Epoch 13/100\n",
      "100/100 [==============================] - 3s 30ms/step - loss: 4.4792e-04 - val_loss: 0.0029\n",
      "Epoch 14/100\n",
      "100/100 [==============================] - 3s 31ms/step - loss: 4.3726e-04 - val_loss: 9.0945e-04\n",
      "Epoch 15/100\n",
      "100/100 [==============================] - 3s 31ms/step - loss: 4.3234e-04 - val_loss: 0.0023\n",
      "Epoch 16/100\n",
      "100/100 [==============================] - 3s 32ms/step - loss: 4.2460e-04 - val_loss: 0.0021\n",
      "Epoch 17/100\n",
      "100/100 [==============================] - 4s 37ms/step - loss: 4.1911e-04 - val_loss: 0.0014\n",
      "Epoch 18/100\n",
      "100/100 [==============================] - 3s 32ms/step - loss: 4.0907e-04 - val_loss: 0.0019\n",
      "Epoch 19/100\n",
      "100/100 [==============================] - 3s 32ms/step - loss: 4.0832e-04 - val_loss: 0.0037\n",
      "Epoch 20/100\n",
      "100/100 [==============================] - 3s 34ms/step - loss: 3.9347e-04 - val_loss: 0.0037\n",
      "Epoch 21/100\n",
      "100/100 [==============================] - 3s 31ms/step - loss: 3.9313e-04 - val_loss: 0.0032\n",
      "Epoch 22/100\n",
      "100/100 [==============================] - 3s 31ms/step - loss: 3.9456e-04 - val_loss: 0.0017\n",
      "Epoch 23/100\n",
      "100/100 [==============================] - 3s 28ms/step - loss: 3.9245e-04 - val_loss: 0.0021\n",
      "Epoch 24/100\n",
      "100/100 [==============================] - 3s 28ms/step - loss: 3.8106e-04 - val_loss: 0.0018\n",
      "Epoch 25/100\n",
      "100/100 [==============================] - 3s 28ms/step - loss: 3.7402e-04 - val_loss: 0.0019\n",
      "Epoch 26/100\n",
      "100/100 [==============================] - 3s 29ms/step - loss: 3.7710e-04 - val_loss: 0.0024\n",
      "Epoch 27/100\n",
      "100/100 [==============================] - 3s 27ms/step - loss: 3.6476e-04 - val_loss: 0.0015\n",
      "Epoch 28/100\n",
      "100/100 [==============================] - 3s 28ms/step - loss: 3.7232e-04 - val_loss: 0.0018\n",
      "Epoch 29/100\n",
      "100/100 [==============================] - 3s 28ms/step - loss: 3.6501e-04 - val_loss: 0.0017\n",
      "Epoch 30/100\n",
      "100/100 [==============================] - 3s 29ms/step - loss: 3.6852e-04 - val_loss: 0.0016\n",
      "Epoch 31/100\n",
      "100/100 [==============================] - 3s 29ms/step - loss: 3.6048e-04 - val_loss: 0.0026\n",
      "Epoch 32/100\n",
      "100/100 [==============================] - 3s 30ms/step - loss: 3.5892e-04 - val_loss: 0.0015\n",
      "Epoch 33/100\n",
      "100/100 [==============================] - 3s 31ms/step - loss: 3.5235e-04 - val_loss: 0.0022\n",
      "Epoch 34/100\n",
      "100/100 [==============================] - 3s 27ms/step - loss: 3.4897e-04 - val_loss: 0.0029\n",
      "Epoch 35/100\n",
      "100/100 [==============================] - 3s 26ms/step - loss: 3.5570e-04 - val_loss: 0.0024\n",
      "Epoch 36/100\n",
      "100/100 [==============================] - 3s 26ms/step - loss: 3.3978e-04 - val_loss: 0.0021\n",
      "Epoch 37/100\n",
      "100/100 [==============================] - 3s 30ms/step - loss: 3.4691e-04 - val_loss: 0.0034\n",
      "Epoch 38/100\n",
      "100/100 [==============================] - 3s 30ms/step - loss: 3.4514e-04 - val_loss: 0.0014\n",
      "Epoch 39/100\n",
      "100/100 [==============================] - 3s 28ms/step - loss: 3.3584e-04 - val_loss: 0.0022\n",
      "Epoch 40/100\n",
      "100/100 [==============================] - 3s 29ms/step - loss: 3.3981e-04 - val_loss: 0.0025\n",
      "Epoch 41/100\n",
      "100/100 [==============================] - 3s 32ms/step - loss: 3.3629e-04 - val_loss: 0.0014\n",
      "Epoch 42/100\n",
      "100/100 [==============================] - 3s 29ms/step - loss: 3.4059e-04 - val_loss: 0.0029\n",
      "Epoch 43/100\n",
      "100/100 [==============================] - 3s 26ms/step - loss: 3.3080e-04 - val_loss: 0.0029\n",
      "Epoch 44/100\n",
      "100/100 [==============================] - 3s 27ms/step - loss: 3.2542e-04 - val_loss: 0.0040\n",
      "Epoch 45/100\n",
      "100/100 [==============================] - 3s 26ms/step - loss: 3.4150e-04 - val_loss: 0.0028\n",
      "Epoch 46/100\n",
      "100/100 [==============================] - 3s 26ms/step - loss: 3.2763e-04 - val_loss: 0.0037\n",
      "Epoch 47/100\n",
      "100/100 [==============================] - 3s 28ms/step - loss: 3.2124e-04 - val_loss: 0.0027\n",
      "Epoch 48/100\n",
      "100/100 [==============================] - 3s 27ms/step - loss: 3.3346e-04 - val_loss: 0.0021\n",
      "Epoch 49/100\n",
      "100/100 [==============================] - 3s 27ms/step - loss: 3.2243e-04 - val_loss: 0.0020\n",
      "Epoch 50/100\n",
      "100/100 [==============================] - 3s 27ms/step - loss: 3.2545e-04 - val_loss: 0.0036\n",
      "Epoch 51/100\n",
      "100/100 [==============================] - 3s 28ms/step - loss: 3.2319e-04 - val_loss: 0.0016\n",
      "Epoch 52/100\n",
      "100/100 [==============================] - 3s 29ms/step - loss: 3.1928e-04 - val_loss: 0.0022\n",
      "Epoch 53/100\n",
      "100/100 [==============================] - 3s 28ms/step - loss: 3.1669e-04 - val_loss: 0.0021\n",
      "Epoch 54/100\n",
      "100/100 [==============================] - 3s 27ms/step - loss: 3.2468e-04 - val_loss: 0.0044\n",
      "Epoch 55/100\n",
      "100/100 [==============================] - 3s 27ms/step - loss: 3.1614e-04 - val_loss: 0.0049\n",
      "Epoch 56/100\n",
      "100/100 [==============================] - 3s 28ms/step - loss: 3.1866e-04 - val_loss: 0.0020\n",
      "Epoch 57/100\n",
      "100/100 [==============================] - 3s 31ms/step - loss: 3.2349e-04 - val_loss: 0.0023\n",
      "Epoch 58/100\n",
      "100/100 [==============================] - 3s 31ms/step - loss: 3.1750e-04 - val_loss: 0.0030\n",
      "Epoch 59/100\n",
      "100/100 [==============================] - 3s 34ms/step - loss: 3.1748e-04 - val_loss: 0.0026\n",
      "Epoch 60/100\n",
      "100/100 [==============================] - 3s 29ms/step - loss: 3.1857e-04 - val_loss: 0.0029\n",
      "Epoch 61/100\n",
      "100/100 [==============================] - 3s 31ms/step - loss: 3.1598e-04 - val_loss: 0.0016\n",
      "Epoch 62/100\n",
      "100/100 [==============================] - 4s 36ms/step - loss: 3.1421e-04 - val_loss: 0.0021\n",
      "Epoch 63/100\n",
      "100/100 [==============================] - 3s 31ms/step - loss: 3.0892e-04 - val_loss: 0.0026\n",
      "Epoch 64/100\n",
      "100/100 [==============================] - 3s 29ms/step - loss: 3.1330e-04 - val_loss: 0.0032\n",
      "Epoch 65/100\n",
      "100/100 [==============================] - 3s 31ms/step - loss: 3.1382e-04 - val_loss: 0.0018\n",
      "Epoch 66/100\n",
      "100/100 [==============================] - 3s 30ms/step - loss: 3.1729e-04 - val_loss: 0.0028\n",
      "Epoch 67/100\n",
      "100/100 [==============================] - 3s 29ms/step - loss: 3.1326e-04 - val_loss: 0.0022\n",
      "Epoch 68/100\n",
      "100/100 [==============================] - 3s 28ms/step - loss: 3.1344e-04 - val_loss: 0.0028\n",
      "Epoch 69/100\n",
      "100/100 [==============================] - 3s 28ms/step - loss: 3.0382e-04 - val_loss: 0.0017\n",
      "Epoch 70/100\n",
      "100/100 [==============================] - 3s 27ms/step - loss: 3.0619e-04 - val_loss: 0.0029\n",
      "Epoch 71/100\n",
      "100/100 [==============================] - 3s 28ms/step - loss: 3.0569e-04 - val_loss: 0.0027\n",
      "Epoch 72/100\n",
      "100/100 [==============================] - 3s 30ms/step - loss: 2.9957e-04 - val_loss: 0.0012\n",
      "Epoch 73/100\n",
      "100/100 [==============================] - 3s 29ms/step - loss: 3.0918e-04 - val_loss: 0.0020\n",
      "Epoch 74/100\n",
      "100/100 [==============================] - 3s 29ms/step - loss: 3.1242e-04 - val_loss: 0.0017\n",
      "Epoch 75/100\n",
      "100/100 [==============================] - 3s 30ms/step - loss: 3.1194e-04 - val_loss: 0.0025\n",
      "Epoch 76/100\n",
      "100/100 [==============================] - 3s 28ms/step - loss: 3.0556e-04 - val_loss: 0.0022\n",
      "Epoch 77/100\n"
     ]
    },
    {
     "name": "stdout",
     "output_type": "stream",
     "text": [
      "100/100 [==============================] - 3s 27ms/step - loss: 3.1483e-04 - val_loss: 0.0016\n",
      "Epoch 78/100\n",
      "100/100 [==============================] - 3s 26ms/step - loss: 3.0372e-04 - val_loss: 0.0023\n",
      "Epoch 79/100\n",
      "100/100 [==============================] - 3s 28ms/step - loss: 3.0127e-04 - val_loss: 0.0016\n",
      "Epoch 80/100\n",
      "100/100 [==============================] - 3s 25ms/step - loss: 3.0395e-04 - val_loss: 0.0029\n",
      "Epoch 81/100\n",
      "100/100 [==============================] - 3s 26ms/step - loss: 3.0078e-04 - val_loss: 0.0018\n",
      "Epoch 82/100\n",
      "100/100 [==============================] - 3s 28ms/step - loss: 3.0013e-04 - val_loss: 0.0033\n",
      "Epoch 83/100\n",
      "100/100 [==============================] - 3s 32ms/step - loss: 3.0267e-04 - val_loss: 0.0032\n",
      "Epoch 84/100\n",
      "100/100 [==============================] - 3s 32ms/step - loss: 2.9533e-04 - val_loss: 0.0030\n",
      "Epoch 85/100\n",
      "100/100 [==============================] - 3s 30ms/step - loss: 2.9877e-04 - val_loss: 0.0021\n",
      "Epoch 86/100\n",
      "100/100 [==============================] - 4s 37ms/step - loss: 3.0636e-04 - val_loss: 0.0037\n",
      "Epoch 87/100\n",
      "100/100 [==============================] - 3s 28ms/step - loss: 3.0257e-04 - val_loss: 0.0019\n",
      "Epoch 88/100\n",
      "100/100 [==============================] - 3s 29ms/step - loss: 2.9783e-04 - val_loss: 0.0023\n",
      "Epoch 89/100\n",
      "100/100 [==============================] - 3s 28ms/step - loss: 2.9919e-04 - val_loss: 0.0016\n",
      "Epoch 90/100\n",
      "100/100 [==============================] - 3s 26ms/step - loss: 2.9815e-04 - val_loss: 0.0028\n",
      "Epoch 91/100\n",
      "100/100 [==============================] - 3s 26ms/step - loss: 2.9442e-04 - val_loss: 0.0014\n",
      "Epoch 92/100\n",
      "100/100 [==============================] - 3s 28ms/step - loss: 2.9224e-04 - val_loss: 8.6127e-04\n",
      "Epoch 93/100\n",
      "100/100 [==============================] - 3s 30ms/step - loss: 2.9769e-04 - val_loss: 0.0025\n",
      "Epoch 94/100\n",
      "100/100 [==============================] - 3s 29ms/step - loss: 2.9899e-04 - val_loss: 0.0019\n",
      "Epoch 95/100\n",
      "100/100 [==============================] - 3s 27ms/step - loss: 2.9471e-04 - val_loss: 0.0032\n",
      "Epoch 96/100\n",
      "100/100 [==============================] - 3s 29ms/step - loss: 2.9322e-04 - val_loss: 0.0031\n",
      "Epoch 97/100\n",
      "100/100 [==============================] - 3s 27ms/step - loss: 2.9884e-04 - val_loss: 0.0023\n",
      "Epoch 98/100\n",
      "100/100 [==============================] - 3s 27ms/step - loss: 2.9983e-04 - val_loss: 0.0028\n",
      "Epoch 99/100\n",
      "100/100 [==============================] - 3s 27ms/step - loss: 2.9358e-04 - val_loss: 0.0032\n",
      "Epoch 100/100\n",
      "100/100 [==============================] - 3s 30ms/step - loss: 2.9159e-04 - val_loss: 0.0034\n",
      "Model: \"sequential_8\"\n",
      "_________________________________________________________________\n",
      "Layer (type)                 Output Shape              Param #   \n",
      "=================================================================\n",
      "module_wrapper_29 (ModuleWra (None, 14, 256)           264192    \n",
      "_________________________________________________________________\n",
      "module_wrapper_30 (ModuleWra (None, 14, 64)            16448     \n",
      "_________________________________________________________________\n",
      "module_wrapper_31 (ModuleWra (None, 14, 64)            0         \n",
      "_________________________________________________________________\n",
      "module_wrapper_32 (ModuleWra (None, 14, 10)            650       \n",
      "_________________________________________________________________\n",
      "module_wrapper_33 (ModuleWra (None, 14, 1)             11        \n",
      "=================================================================\n",
      "Total params: 281,301\n",
      "Trainable params: 281,301\n",
      "Non-trainable params: 0\n",
      "_________________________________________________________________\n"
     ]
    }
   ],
   "source": [
    "name = ''\n",
    "model,history = build_model(X_train,y_train,X_test,y_test,name)"
   ]
  },
  {
   "cell_type": "code",
   "execution_count": 68,
   "id": "delayed-correlation",
   "metadata": {
    "ExecuteTime": {
     "end_time": "2021-07-01T22:03:03.742266Z",
     "start_time": "2021-07-01T22:03:03.159217Z"
    }
   },
   "outputs": [
    {
     "ename": "AttributeError",
     "evalue": "'Sequential' object has no attribute 'config'",
     "output_type": "error",
     "traceback": [
      "\u001b[1;31m---------------------------------------------------------------------------\u001b[0m",
      "\u001b[1;31mAttributeError\u001b[0m                            Traceback (most recent call last)",
      "\u001b[1;32m<ipython-input-68-bf5a57509985>\u001b[0m in \u001b[0;36m<module>\u001b[1;34m\u001b[0m\n\u001b[1;32m----> 1\u001b[1;33m \u001b[0mmodel\u001b[0m\u001b[1;33m.\u001b[0m\u001b[0mconfig\u001b[0m\u001b[1;33m(\u001b[0m\u001b[1;33m)\u001b[0m\u001b[1;33m\u001b[0m\u001b[0m\n\u001b[0m",
      "\u001b[1;31mAttributeError\u001b[0m: 'Sequential' object has no attribute 'config'"
     ]
    }
   ],
   "source": [
    "#model.config()"
   ]
  },
  {
   "cell_type": "markdown",
   "id": "arbitrary-century",
   "metadata": {},
   "source": [
    "## Evaluate Model"
   ]
  },
  {
   "cell_type": "code",
   "execution_count": 69,
   "id": "sharp-softball",
   "metadata": {
    "ExecuteTime": {
     "end_time": "2021-07-01T22:03:15.554471Z",
     "start_time": "2021-07-01T22:03:14.933983Z"
    }
   },
   "outputs": [],
   "source": [
    "test_result = model.predict(X_test)"
   ]
  },
  {
   "cell_type": "code",
   "execution_count": 70,
   "id": "impressive-complex",
   "metadata": {
    "ExecuteTime": {
     "end_time": "2021-07-01T22:03:15.569432Z",
     "start_time": "2021-07-01T22:03:15.556468Z"
    }
   },
   "outputs": [
    {
     "name": "stdout",
     "output_type": "stream",
     "text": [
      "Resultado teste:  7\n",
      "Numero downloads teste:  0.5750148511127711\n"
     ]
    }
   ],
   "source": [
    "#resultado teste\n",
    "print(\"Resultado teste: \",np.argmax(test_result[0]))\n",
    "print(\"Numero downloads teste: \", y_test[0])"
   ]
  },
  {
   "cell_type": "code",
   "execution_count": 71,
   "id": "silver-infrared",
   "metadata": {
    "ExecuteTime": {
     "end_time": "2021-07-01T22:03:16.857720Z",
     "start_time": "2021-07-01T22:03:16.431261Z"
    }
   },
   "outputs": [
    {
     "name": "stdout",
     "output_type": "stream",
     "text": [
      "32/32 [==============================] - 0s 11ms/step - loss: 0.0104\n"
     ]
    },
    {
     "data": {
      "text/plain": [
       "0.01040142122656107"
      ]
     },
     "execution_count": 71,
     "metadata": {},
     "output_type": "execute_result"
    }
   ],
   "source": [
    "#perda do teste e a segunda a acuracia\n",
    "model.evaluate(X_test, y_test)"
   ]
  },
  {
   "cell_type": "code",
   "execution_count": 72,
   "id": "daily-finder",
   "metadata": {
    "ExecuteTime": {
     "end_time": "2021-07-01T22:03:18.722970Z",
     "start_time": "2021-07-01T22:03:18.448703Z"
    }
   },
   "outputs": [
    {
     "data": {
      "image/png": "[encoded data removed]",
      "text/plain": [
       "<Figure size 720x432 with 1 Axes>"
      ]
     },
     "metadata": {},
     "output_type": "display_data"
    }
   ],
   "source": [
    "plt.title(\"Perdas por epocas\")\n",
    "plt.plot(history.history['loss'])\n",
    "plt.plot(history.history['val_loss'])\n",
    "plt.xlabel('epocas')\n",
    "plt.ylabel('perdas')\n",
    "plt.legend(['Treino','Teste'])\n",
    "plt.show()"
   ]
  },
  {
   "cell_type": "markdown",
   "id": "extended-timer",
   "metadata": {},
   "source": [
    "### Simple prediction"
   ]
  },
  {
   "cell_type": "code",
   "execution_count": 60,
   "id": "wrapped-maldives",
   "metadata": {
    "ExecuteTime": {
     "end_time": "2021-07-01T20:05:00.802480Z",
     "start_time": "2021-07-01T20:05:00.798493Z"
    }
   },
   "outputs": [],
   "source": [
    "def inverse_predictions(model, scaler, X_train, X_test):\n",
    "    train_predict = model.predict(X_train)\n",
    "    test_predict = model.predict(X_test)\n",
    "    \n",
    "    train_predict = scaler.inverse_transform(train_predict)\n",
    "    test_predict = scaler.inverse_transform(test_predict)\n",
    "    \n",
    "    return train_predict, test_predict    "
   ]
  },
  {
   "cell_type": "code",
   "execution_count": 61,
   "id": "fuzzy-identification",
   "metadata": {
    "ExecuteTime": {
     "end_time": "2021-07-01T20:05:01.377989Z",
     "start_time": "2021-07-01T20:05:01.360039Z"
    }
   },
   "outputs": [],
   "source": [
    "def metrics(y_train, y_test, train_predict, test_predict):\n",
    "    print(\"Train RMSE\",math.sqrt(mean_squared_error(y_train,train_predict)))\n",
    "    print(\"Test RMSE\",math.sqrt(mean_squared_error(y_test,test_predict)))\n",
    "    "
   ]
  },
  {
   "cell_type": "code",
   "execution_count": 62,
   "id": "cooked-provincial",
   "metadata": {
    "ExecuteTime": {
     "end_time": "2021-07-01T20:05:03.900099Z",
     "start_time": "2021-07-01T20:05:03.783760Z"
    }
   },
   "outputs": [],
   "source": [
    "train_predict, test_predict = inverse_predictions(model, scaler, X_train, X_test)"
   ]
  },
  {
   "cell_type": "code",
   "execution_count": 63,
   "id": "athletic-december",
   "metadata": {
    "ExecuteTime": {
     "end_time": "2021-07-01T20:05:09.583589Z",
     "start_time": "2021-07-01T20:05:09.573629Z"
    }
   },
   "outputs": [
    {
     "name": "stdout",
     "output_type": "stream",
     "text": [
      "Train RMSE 4406115.717565158\n",
      "Test RMSE 7017867.72517529\n"
     ]
    }
   ],
   "source": [
    "metrics(y_train, y_test, train_predict, test_predict)"
   ]
  },
  {
   "cell_type": "markdown",
   "id": "phantom-glory",
   "metadata": {},
   "source": [
    "### Predict Next N months"
   ]
  },
  {
   "cell_type": "code",
   "execution_count": 67,
   "id": "tracked-wright",
   "metadata": {
    "ExecuteTime": {
     "end_time": "2021-07-01T20:05:52.818910Z",
     "start_time": "2021-07-01T20:05:52.798004Z"
    }
   },
   "outputs": [],
   "source": [
    "def get_forecast(model,x_input,n_steps,steps):\n",
    "    \n",
    "    n_features = 1\n",
    "    \n",
    "    temp_input=list(x_input)\n",
    "    lst_output = []\n",
    "    i = 0\n",
    "    while (i<steps):\n",
    "        if(len(temp_input)>n_steps):\n",
    "            x_input = np.array(temp_input[1:])\n",
    "            print(\"{} day input {}\".format(i,x_input))\n",
    "            \n",
    "            x_input = x_input.reshape((1,n_steps, n_features))\n",
    "            yhat = model.predict(x_input, verbose=0)\n",
    "            print(\"{} day output {}\".format(i, yhat))\n",
    "            temp_input.append(yhat[0][0])\n",
    "            temp_input = temp_input[1:]\n",
    "            lst_output.append(yhat[0][0])\n",
    "            i=i+1\n",
    "        else:\n",
    "            x_input = x_input.reshape((1, n_steps,n_features))\n",
    "            yhat = model.predict(x_input, verbose=0)\n",
    "            print(yhat[0])\n",
    "            temp_input.append(yhat[0][0])\n",
    "            lst_output.append(yhat[0][0])\n",
    "            i=i+1\n",
    "    print(lst_output)\n",
    "       \n",
    "    return pd.DataFrame(lst_output,columns=['prediction'])"
   ]
  },
  {
   "cell_type": "code",
   "execution_count": 69,
   "id": "speaking-angola",
   "metadata": {
    "ExecuteTime": {
     "end_time": "2021-07-01T20:06:29.631953Z",
     "start_time": "2021-07-01T20:06:29.614001Z"
    }
   },
   "outputs": [
    {
     "data": {
      "text/plain": [
       "(1, 5)"
      ]
     },
     "execution_count": 69,
     "metadata": {},
     "output_type": "execute_result"
    }
   ],
   "source": [
    "x_input=test.reshape(1,-1)\n",
    "x_input.shape"
   ]
  },
  {
   "cell_type": "code",
   "execution_count": 70,
   "id": "official-renewal",
   "metadata": {
    "ExecuteTime": {
     "end_time": "2021-07-01T20:06:31.876339Z",
     "start_time": "2021-07-01T20:06:31.859403Z"
    }
   },
   "outputs": [
    {
     "data": {
      "text/plain": [
       "array([[0.47208171, 0.64290933, 0.72373208, 0.85429609, 0.76623978]])"
      ]
     },
     "execution_count": 70,
     "metadata": {},
     "output_type": "execute_result"
    }
   ],
   "source": [
    "x_input"
   ]
  },
  {
   "cell_type": "code",
   "execution_count": 71,
   "id": "necessary-pricing",
   "metadata": {
    "ExecuteTime": {
     "end_time": "2021-07-01T20:06:35.649353Z",
     "start_time": "2021-07-01T20:06:35.644366Z"
    }
   },
   "outputs": [
    {
     "data": {
      "text/plain": [
       "[0.47208170890933854,\n",
       " 0.6429093289984122,\n",
       " 0.7237320779937274,\n",
       " 0.854296094423707,\n",
       " 0.7662397770054402]"
      ]
     },
     "execution_count": 71,
     "metadata": {},
     "output_type": "execute_result"
    }
   ],
   "source": [
    "temp_input=list(x_input)\n",
    "temp_input=temp_input[0].tolist()\n",
    "temp_input"
   ]
  },
  {
   "cell_type": "code",
   "execution_count": 74,
   "id": "billion-punch",
   "metadata": {
    "ExecuteTime": {
     "end_time": "2021-07-01T20:06:56.024755Z",
     "start_time": "2021-07-01T20:06:55.132684Z"
    }
   },
   "outputs": [
    {
     "name": "stdout",
     "output_type": "stream",
     "text": [
      "0 day input [0.64290933 0.72373208 0.85429609 0.76623978]\n",
      "0 day output [[0.70549214]]\n",
      "1 day input [0.72373208 0.85429609 0.76623978 0.70549214]\n",
      "1 day output [[0.6308318]]\n",
      "2 day input [0.85429609 0.76623978 0.70549214 0.63083178]\n",
      "2 day output [[0.5768309]]\n",
      "3 day input [0.76623978 0.70549214 0.63083178 0.57683092]\n",
      "3 day output [[0.5379283]]\n",
      "4 day input [0.70549214 0.6308318  0.5768309  0.5379283 ]\n",
      "4 day output [[0.5146904]]\n",
      "5 day input [0.6308318 0.5768309 0.5379283 0.5146904]\n",
      "5 day output [[0.5032184]]\n",
      "6 day input [0.5768309 0.5379283 0.5146904 0.5032184]\n",
      "6 day output [[0.5002566]]\n",
      "7 day input [0.5379283 0.5146904 0.5032184 0.5002566]\n",
      "7 day output [[0.5027633]]\n",
      "8 day input [0.5146904 0.5032184 0.5002566 0.5027633]\n",
      "8 day output [[0.5083271]]\n",
      "9 day input [0.5032184 0.5002566 0.5027633 0.5083271]\n",
      "9 day output [[0.5151446]]\n",
      "10 day input [0.5002566 0.5027633 0.5083271 0.5151446]\n",
      "10 day output [[0.52196276]]\n",
      "11 day input [0.5027633  0.5083271  0.5151446  0.52196276]\n",
      "11 day output [[0.527997]]\n",
      "12 day input [0.5083271  0.5151446  0.52196276 0.527997  ]\n",
      "12 day output [[0.5328397]]\n",
      "13 day input [0.5151446  0.52196276 0.527997   0.5328397 ]\n",
      "13 day output [[0.53636855]]\n",
      "14 day input [0.52196276 0.527997   0.5328397  0.53636855]\n",
      "14 day output [[0.53865945]]\n",
      "15 day input [0.527997   0.5328397  0.53636855 0.53865945]\n",
      "15 day output [[0.539906]]\n",
      "16 day input [0.5328397  0.53636855 0.53865945 0.539906  ]\n",
      "16 day output [[0.54035544]]\n",
      "17 day input [0.53636855 0.53865945 0.539906   0.54035544]\n",
      "17 day output [[0.5402581]]\n",
      "[0.70549214, 0.6308318, 0.5768309, 0.5379283, 0.5146904, 0.5032184, 0.5002566, 0.5027633, 0.5083271, 0.5151446, 0.52196276, 0.527997, 0.5328397, 0.53636855, 0.53865945, 0.539906, 0.54035544, 0.5402581]\n"
     ]
    }
   ],
   "source": [
    "pred = get_forecast(model,temp_input,4,18)"
   ]
  },
  {
   "cell_type": "code",
   "execution_count": 75,
   "id": "informational-herald",
   "metadata": {
    "ExecuteTime": {
     "end_time": "2021-07-01T20:07:00.361482Z",
     "start_time": "2021-07-01T20:07:00.354475Z"
    }
   },
   "outputs": [
    {
     "data": {
      "text/plain": [
       "array([[6077109.00843465],\n",
       "       [5434438.37140292],\n",
       "       [4969603.17399997],\n",
       "       [4634732.2414332 ],\n",
       "       [4434702.32489395],\n",
       "       [4335952.34611535],\n",
       "       [4310457.27578944],\n",
       "       [4332034.52685213],\n",
       "       [4379927.763749  ],\n",
       "       [4438611.93500209],\n",
       "       [4497302.26312149],\n",
       "       [4549244.6657629 ],\n",
       "       [4590930.24220067],\n",
       "       [4621306.16829544],\n",
       "       [4641026.09802067],\n",
       "       [4651756.48985815],\n",
       "       [4655625.05419087],\n",
       "       [4654787.20730025]])"
      ]
     },
     "execution_count": 75,
     "metadata": {},
     "output_type": "execute_result"
    }
   ],
   "source": [
    "scaler.inverse_transform(pred)"
   ]
  },
  {
   "cell_type": "code",
   "execution_count": null,
   "id": "alive-coach",
   "metadata": {
    "ExecuteTime": {
     "end_time": "2021-06-23T15:25:37.907886Z",
     "start_time": "2021-06-23T15:25:37.689236Z"
    }
   },
   "outputs": [],
   "source": [
    "plt.plot(pred)\n",
    "plt.show()"
   ]
  }
 ],
 "metadata": {
  "kernelspec": {
   "display_name": "Python 3",
   "language": "python",
   "name": "python3"
  },
  "language_info": {
   "codemirror_mode": {
    "name": "ipython",
    "version": 3
   },
   "file_extension": ".py",
   "mimetype": "text/x-python",
   "name": "python",
   "nbconvert_exporter": "python",
   "pygments_lexer": "ipython3",
   "version": "3.6.4"
  },
  "toc": {
   "base_numbering": 1,
   "nav_menu": {},
   "number_sections": true,
   "sideBar": true,
   "skip_h1_title": false,
   "title_cell": "Table of Contents",
   "title_sidebar": "Contents",
   "toc_cell": false,
   "toc_position": {
    "height": "calc(100% - 180px)",
    "left": "10px",
    "top": "150px",
    "width": "273px"
   },
   "toc_section_display": true,
   "toc_window_display": false
  }
 },
 "nbformat": 4,
 "nbformat_minor": 5
}
