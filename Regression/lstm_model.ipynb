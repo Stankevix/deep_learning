{
 "cells": [
  {
   "cell_type": "markdown",
   "id": "permanent-proportion",
   "metadata": {},
   "source": [
    "# LSTM"
   ]
  },
  {
   "cell_type": "markdown",
   "id": "continued-employee",
   "metadata": {},
   "source": [
    "## Leitura de Dados"
   ]
  },
  {
   "cell_type": "code",
   "execution_count": 24,
   "id": "peripheral-range",
   "metadata": {
    "ExecuteTime": {
     "end_time": "2021-06-30T20:04:16.128175Z",
     "start_time": "2021-06-30T20:04:09.656351Z"
    }
   },
   "outputs": [],
   "source": [
    "import pandas as pd\n",
    "import numpy as np\n",
    "import seaborn as sns\n",
    "import matplotlib as mpl\n",
    "import matplotlib.pyplot as plt\n",
    "\n",
    "from tensorflow.keras.models import Sequential\n",
    "from keras.layers import Dense, LSTM, Flatten,Dropout"
   ]
  },
  {
   "cell_type": "code",
   "execution_count": 2,
   "id": "precious-ferry",
   "metadata": {
    "ExecuteTime": {
     "end_time": "2021-06-30T18:45:47.094845Z",
     "start_time": "2021-06-30T18:45:47.077655Z"
    }
   },
   "outputs": [],
   "source": [
    "mpl.rcParams['figure.figsize']=(10,6)\n",
    "mpl.rcParams['font.size']=22\n",
    "sns.set_style('darkgrid')"
   ]
  },
  {
   "cell_type": "code",
   "execution_count": 3,
   "id": "grave-picnic",
   "metadata": {
    "ExecuteTime": {
     "end_time": "2021-06-30T18:45:47.777018Z",
     "start_time": "2021-06-30T18:45:47.745394Z"
    }
   },
   "outputs": [],
   "source": [
    "bike = pd.read_csv('bicicletas.csv')"
   ]
  },
  {
   "cell_type": "code",
   "execution_count": 4,
   "id": "opening-meter",
   "metadata": {
    "ExecuteTime": {
     "end_time": "2021-06-30T18:45:48.244631Z",
     "start_time": "2021-06-30T18:45:48.212066Z"
    }
   },
   "outputs": [
    {
     "data": {
      "text/html": [
       "<div>\n",
       "<style scoped>\n",
       "    .dataframe tbody tr th:only-of-type {\n",
       "        vertical-align: middle;\n",
       "    }\n",
       "\n",
       "    .dataframe tbody tr th {\n",
       "        vertical-align: top;\n",
       "    }\n",
       "\n",
       "    .dataframe thead th {\n",
       "        text-align: right;\n",
       "    }\n",
       "</style>\n",
       "<table border=\"1\" class=\"dataframe\">\n",
       "  <thead>\n",
       "    <tr style=\"text-align: right;\">\n",
       "      <th></th>\n",
       "      <th>datas</th>\n",
       "      <th>contagem</th>\n",
       "      <th>temperatura</th>\n",
       "      <th>sensacao</th>\n",
       "      <th>umidade</th>\n",
       "      <th>vel_vento</th>\n",
       "      <th>clima</th>\n",
       "      <th>feriado</th>\n",
       "      <th>final_ds</th>\n",
       "      <th>estacao</th>\n",
       "    </tr>\n",
       "  </thead>\n",
       "  <tbody>\n",
       "    <tr>\n",
       "      <th>0</th>\n",
       "      <td>2015-01-04 00:00:00</td>\n",
       "      <td>182</td>\n",
       "      <td>3.0</td>\n",
       "      <td>2.0</td>\n",
       "      <td>93.0</td>\n",
       "      <td>6.0</td>\n",
       "      <td>3.0</td>\n",
       "      <td>0.0</td>\n",
       "      <td>1.0</td>\n",
       "      <td>3.0</td>\n",
       "    </tr>\n",
       "    <tr>\n",
       "      <th>1</th>\n",
       "      <td>2015-01-04 01:00:00</td>\n",
       "      <td>138</td>\n",
       "      <td>3.0</td>\n",
       "      <td>2.5</td>\n",
       "      <td>93.0</td>\n",
       "      <td>5.0</td>\n",
       "      <td>1.0</td>\n",
       "      <td>0.0</td>\n",
       "      <td>1.0</td>\n",
       "      <td>3.0</td>\n",
       "    </tr>\n",
       "    <tr>\n",
       "      <th>2</th>\n",
       "      <td>2015-01-04 02:00:00</td>\n",
       "      <td>134</td>\n",
       "      <td>2.5</td>\n",
       "      <td>2.5</td>\n",
       "      <td>96.5</td>\n",
       "      <td>0.0</td>\n",
       "      <td>1.0</td>\n",
       "      <td>0.0</td>\n",
       "      <td>1.0</td>\n",
       "      <td>3.0</td>\n",
       "    </tr>\n",
       "    <tr>\n",
       "      <th>3</th>\n",
       "      <td>2015-01-04 03:00:00</td>\n",
       "      <td>72</td>\n",
       "      <td>2.0</td>\n",
       "      <td>2.0</td>\n",
       "      <td>100.0</td>\n",
       "      <td>0.0</td>\n",
       "      <td>1.0</td>\n",
       "      <td>0.0</td>\n",
       "      <td>1.0</td>\n",
       "      <td>3.0</td>\n",
       "    </tr>\n",
       "    <tr>\n",
       "      <th>4</th>\n",
       "      <td>2015-01-04 04:00:00</td>\n",
       "      <td>47</td>\n",
       "      <td>2.0</td>\n",
       "      <td>0.0</td>\n",
       "      <td>93.0</td>\n",
       "      <td>6.5</td>\n",
       "      <td>1.0</td>\n",
       "      <td>0.0</td>\n",
       "      <td>1.0</td>\n",
       "      <td>3.0</td>\n",
       "    </tr>\n",
       "  </tbody>\n",
       "</table>\n",
       "</div>"
      ],
      "text/plain": [
       "                 datas  contagem  temperatura  sensacao  umidade  vel_vento  \\\n",
       "0  2015-01-04 00:00:00       182          3.0       2.0     93.0        6.0   \n",
       "1  2015-01-04 01:00:00       138          3.0       2.5     93.0        5.0   \n",
       "2  2015-01-04 02:00:00       134          2.5       2.5     96.5        0.0   \n",
       "3  2015-01-04 03:00:00        72          2.0       2.0    100.0        0.0   \n",
       "4  2015-01-04 04:00:00        47          2.0       0.0     93.0        6.5   \n",
       "\n",
       "   clima  feriado  final_ds  estacao  \n",
       "0    3.0      0.0       1.0      3.0  \n",
       "1    1.0      0.0       1.0      3.0  \n",
       "2    1.0      0.0       1.0      3.0  \n",
       "3    1.0      0.0       1.0      3.0  \n",
       "4    1.0      0.0       1.0      3.0  "
      ]
     },
     "execution_count": 4,
     "metadata": {},
     "output_type": "execute_result"
    }
   ],
   "source": [
    "bike.head()"
   ]
  },
  {
   "cell_type": "code",
   "execution_count": 6,
   "id": "unlimited-collaboration",
   "metadata": {
    "ExecuteTime": {
     "end_time": "2021-06-30T18:49:09.568555Z",
     "start_time": "2021-06-30T18:49:09.205948Z"
    }
   },
   "outputs": [
    {
     "data": {
      "image/png": "[encoded data removed]",
      "text/plain": [
       "<Figure size 720x432 with 1 Axes>"
      ]
     },
     "metadata": {},
     "output_type": "display_data"
    }
   ],
   "source": [
    "sns.lineplot(x='datas',y='contagem',data=bike[0:30])\n",
    "plt.xticks(rotation=70)\n",
    "plt.show()"
   ]
  },
  {
   "cell_type": "markdown",
   "id": "spare-watch",
   "metadata": {},
   "source": [
    "## Pre processamento"
   ]
  },
  {
   "cell_type": "code",
   "execution_count": 7,
   "id": "hollow-passage",
   "metadata": {
    "ExecuteTime": {
     "end_time": "2021-06-30T18:49:27.757894Z",
     "start_time": "2021-06-30T18:49:26.647974Z"
    }
   },
   "outputs": [],
   "source": [
    "from sklearn.preprocessing import StandardScaler"
   ]
  },
  {
   "cell_type": "code",
   "execution_count": 38,
   "id": "exotic-simon",
   "metadata": {
    "ExecuteTime": {
     "end_time": "2021-06-30T21:03:28.975530Z",
     "start_time": "2021-06-30T21:03:28.966527Z"
    }
   },
   "outputs": [],
   "source": [
    "def split_nlegs(vetor, n_passos):\n",
    "    \"\"\"\n",
    "        Entrada: vetor: numero de Passageiros\n",
    "                 n_passos: numero de passos no regressor\n",
    "        Saida:\n",
    "            X_novo: Array 2D\n",
    "            y_novo: Array 1D - Nosso alvo (target)\n",
    "    \n",
    "    \"\"\"\n",
    "    # Inicializacao dos novos vetores \n",
    "    X_novo, y_novo = [],[]\n",
    "    \n",
    "    #percorrer o vetor de entrada e agregar valores aos novos vetores\n",
    "    for i in range(n_passos, vetor.shape[0]):\n",
    "        X_novo.append(list(vetor.loc[i-n_passos:i-1]))\n",
    "        y_novo.append(vetor.loc[i])\n",
    "    X_novo, y_novo = np.array(X_novo),np.array(y_novo)\n",
    "    \n",
    "    return X_novo, y_novo"
   ]
  },
  {
   "cell_type": "code",
   "execution_count": 37,
   "id": "middle-haiti",
   "metadata": {
    "ExecuteTime": {
     "end_time": "2021-06-30T21:03:26.361702Z",
     "start_time": "2021-06-30T21:03:26.350774Z"
    }
   },
   "outputs": [],
   "source": [
    "def reshape_dataframe(y_train, y_test):\n",
    "    \n",
    "    vetor_train = pd.DataFrame(y_train)[0]\n",
    "    vetor_test = pd.DataFrame(y_test)[0]\n",
    "\n",
    "    X_train_new, y_train_new = split_nlegs(vetor_train, 10)\n",
    "    X_test_new, y_test_new = split_nlegs(vetor_test, 10)\n",
    "    \n",
    "    X_train_new = X_train_new.reshape((X_train_new.shape[0],X_train_new.shape[1],1))\n",
    "    X_test_new = X_test_new.reshape((X_test_new.shape[0],X_test_new.shape[1],1))\n",
    "    \n",
    "    print(X_train_new.shape,X_test.shape)\n",
    "    \n",
    "    return X_train, y_train, X_test, y_test\n",
    "    "
   ]
  },
  {
   "cell_type": "code",
   "execution_count": 8,
   "id": "legal-intro",
   "metadata": {
    "ExecuteTime": {
     "end_time": "2021-06-30T18:49:29.138861Z",
     "start_time": "2021-06-30T18:49:29.128857Z"
    }
   },
   "outputs": [
    {
     "data": {
      "text/plain": [
       "StandardScaler()"
      ]
     },
     "execution_count": 8,
     "metadata": {},
     "output_type": "execute_result"
    }
   ],
   "source": [
    "scaler = StandardScaler()\n",
    "scaler.fit(bike['contagem'].values.reshape(-1,1))"
   ]
  },
  {
   "cell_type": "code",
   "execution_count": 9,
   "id": "meaning-theory",
   "metadata": {
    "ExecuteTime": {
     "end_time": "2021-06-30T18:50:06.910670Z",
     "start_time": "2021-06-30T18:50:06.899666Z"
    }
   },
   "outputs": [],
   "source": [
    "y = scaler.transform(bike['contagem'].values.reshape(-1,1))"
   ]
  },
  {
   "cell_type": "code",
   "execution_count": 39,
   "id": "considered-browse",
   "metadata": {
    "ExecuteTime": {
     "end_time": "2021-06-30T21:03:53.258068Z",
     "start_time": "2021-06-30T21:03:51.602408Z"
    }
   },
   "outputs": [
    {
     "name": "stdout",
     "output_type": "stream",
     "text": [
      "(15662, 10, 1) (1732, 10, 1)\n"
     ]
    }
   ],
   "source": [
    "len_train = int(len(bike)*0.9)\n",
    "len_test = len(bike)-len_train\n",
    "\n",
    "y_train = y[0:len_train]\n",
    "y_test = y[len_train:len(bike)]\n",
    "\n",
    "X_train, y_train, X_test, y_test = reshape_dataframe(y_train, y_test)"
   ]
  },
  {
   "cell_type": "code",
   "execution_count": 14,
   "id": "earned-vancouver",
   "metadata": {
    "ExecuteTime": {
     "end_time": "2021-06-30T19:48:43.669848Z",
     "start_time": "2021-06-30T19:48:43.652895Z"
    }
   },
   "outputs": [],
   "source": [
    "#sns.lineplot(x='datas',y=y_train[:,0],data=bike[0:len_train],label='train')\n",
    "#sns.lineplot(x='datas',y=y_test[:,0],data=bike[len_train:len(bike)],label='teste')\n",
    "#plt.xticks(rotation=80)\n",
    "#plt.show()"
   ]
  },
  {
   "cell_type": "markdown",
   "id": "centered-repair",
   "metadata": {},
   "source": [
    "Temos que passar os dados na forma que a rede recorrente espera receber. \n",
    "\n",
    "Ela espera receber uma tridimensional, quase que idêntica à gerada pela função split_nlegs, mas ela tem uma terceira dimensão que vai ser o número de atributos por passo no tempo, no nosso caso, vai ser apenas um atributo, que é o tempo."
   ]
  },
  {
   "cell_type": "markdown",
   "id": "honest-adams",
   "metadata": {},
   "source": [
    "## Construir Modelo"
   ]
  },
  {
   "cell_type": "code",
   "execution_count": 30,
   "id": "attended-patch",
   "metadata": {
    "ExecuteTime": {
     "end_time": "2021-06-30T20:29:05.458159Z",
     "start_time": "2021-06-30T20:29:05.444201Z"
    }
   },
   "outputs": [],
   "source": [
    "def build_model(X_train, y_train,X_test,y_test):\n",
    "    \n",
    "    model = Sequential()\n",
    "    model.add(LSTM(128,input_shape=(X_train.shape[1],X_train.shape[2])))\n",
    "    model.add(Dense(units=1))\n",
    "    model.compile(loss='mse',optimizer='RMSProp')\n",
    "    \n",
    "    model.fit(X_train, y_train,\n",
    "              validation_data=(X_test,y_test),epochs=100)\n",
    "    \n",
    "    model.summary()\n",
    "    \n",
    "    return model"
   ]
  },
  {
   "cell_type": "code",
   "execution_count": 31,
   "id": "thirty-wagner",
   "metadata": {
    "ExecuteTime": {
     "end_time": "2021-06-30T20:34:28.484982Z",
     "start_time": "2021-06-30T20:29:09.320222Z"
    }
   },
   "outputs": [
    {
     "name": "stdout",
     "output_type": "stream",
     "text": [
      "Epoch 1/100\n",
      "490/490 [==============================] - 4s 5ms/step - loss: 0.2459 - val_loss: 0.1193\n",
      "Epoch 2/100\n",
      "490/490 [==============================] - 2s 5ms/step - loss: 0.0731 - val_loss: 0.0407\n",
      "Epoch 3/100\n",
      "490/490 [==============================] - 2s 5ms/step - loss: 0.0535 - val_loss: 0.0310\n",
      "Epoch 4/100\n",
      "490/490 [==============================] - 2s 5ms/step - loss: 0.0461 - val_loss: 0.0729\n",
      "Epoch 5/100\n",
      "490/490 [==============================] - 2s 5ms/step - loss: 0.0418 - val_loss: 0.0261\n",
      "Epoch 6/100\n",
      "490/490 [==============================] - 2s 5ms/step - loss: 0.0388 - val_loss: 0.0270\n",
      "Epoch 7/100\n",
      "490/490 [==============================] - 2s 5ms/step - loss: 0.0372 - val_loss: 0.0230\n",
      "Epoch 8/100\n",
      "490/490 [==============================] - 2s 5ms/step - loss: 0.0348 - val_loss: 0.0246\n",
      "Epoch 9/100\n",
      "490/490 [==============================] - 2s 5ms/step - loss: 0.0340 - val_loss: 0.0228\n",
      "Epoch 10/100\n",
      "490/490 [==============================] - 3s 6ms/step - loss: 0.0326 - val_loss: 0.0217\n",
      "Epoch 11/100\n",
      "490/490 [==============================] - 3s 6ms/step - loss: 0.0316 - val_loss: 0.0248\n",
      "Epoch 12/100\n",
      "490/490 [==============================] - 3s 7ms/step - loss: 0.0314 - val_loss: 0.0188\n",
      "Epoch 13/100\n",
      "490/490 [==============================] - 3s 7ms/step - loss: 0.0302 - val_loss: 0.0209\n",
      "Epoch 14/100\n",
      "490/490 [==============================] - 3s 7ms/step - loss: 0.0296 - val_loss: 0.0189\n",
      "Epoch 15/100\n",
      "490/490 [==============================] - 3s 6ms/step - loss: 0.0293 - val_loss: 0.0171\n",
      "Epoch 16/100\n",
      "490/490 [==============================] - 3s 6ms/step - loss: 0.0288 - val_loss: 0.0211\n",
      "Epoch 17/100\n",
      "490/490 [==============================] - 3s 6ms/step - loss: 0.0282 - val_loss: 0.0170\n",
      "Epoch 18/100\n",
      "490/490 [==============================] - 3s 6ms/step - loss: 0.0277 - val_loss: 0.0181\n",
      "Epoch 19/100\n",
      "490/490 [==============================] - 3s 6ms/step - loss: 0.0273 - val_loss: 0.0167\n",
      "Epoch 20/100\n",
      "490/490 [==============================] - 3s 6ms/step - loss: 0.0269 - val_loss: 0.0173\n",
      "Epoch 21/100\n",
      "490/490 [==============================] - 3s 6ms/step - loss: 0.0268 - val_loss: 0.0234\n",
      "Epoch 22/100\n",
      "490/490 [==============================] - 3s 6ms/step - loss: 0.0263 - val_loss: 0.0167\n",
      "Epoch 23/100\n",
      "490/490 [==============================] - 3s 6ms/step - loss: 0.0259 - val_loss: 0.0189\n",
      "Epoch 24/100\n",
      "490/490 [==============================] - 3s 6ms/step - loss: 0.0257 - val_loss: 0.0241\n",
      "Epoch 25/100\n",
      "490/490 [==============================] - 3s 6ms/step - loss: 0.0254 - val_loss: 0.0166\n",
      "Epoch 26/100\n",
      "490/490 [==============================] - 3s 6ms/step - loss: 0.0253 - val_loss: 0.0183\n",
      "Epoch 27/100\n",
      "490/490 [==============================] - 3s 6ms/step - loss: 0.0250 - val_loss: 0.0174\n",
      "Epoch 28/100\n",
      "490/490 [==============================] - 3s 7ms/step - loss: 0.0247 - val_loss: 0.0165\n",
      "Epoch 29/100\n",
      "490/490 [==============================] - 3s 7ms/step - loss: 0.0246 - val_loss: 0.0162\n",
      "Epoch 30/100\n",
      "490/490 [==============================] - 4s 7ms/step - loss: 0.0242 - val_loss: 0.0184\n",
      "Epoch 31/100\n",
      "490/490 [==============================] - 3s 7ms/step - loss: 0.0242 - val_loss: 0.0192\n",
      "Epoch 32/100\n",
      "490/490 [==============================] - 3s 7ms/step - loss: 0.0237 - val_loss: 0.0158\n",
      "Epoch 33/100\n",
      "490/490 [==============================] - 4s 8ms/step - loss: 0.0239 - val_loss: 0.0151\n",
      "Epoch 34/100\n",
      "490/490 [==============================] - 4s 7ms/step - loss: 0.0235 - val_loss: 0.0163\n",
      "Epoch 35/100\n",
      "490/490 [==============================] - 3s 7ms/step - loss: 0.0235 - val_loss: 0.0161\n",
      "Epoch 36/100\n",
      "490/490 [==============================] - 3s 7ms/step - loss: 0.0230 - val_loss: 0.0169\n",
      "Epoch 37/100\n",
      "490/490 [==============================] - 3s 7ms/step - loss: 0.0228 - val_loss: 0.0162\n",
      "Epoch 38/100\n",
      "490/490 [==============================] - 3s 6ms/step - loss: 0.0229 - val_loss: 0.0165\n",
      "Epoch 39/100\n",
      "490/490 [==============================] - 3s 7ms/step - loss: 0.0226 - val_loss: 0.0157\n",
      "Epoch 40/100\n",
      "490/490 [==============================] - 3s 6ms/step - loss: 0.0226 - val_loss: 0.0144\n",
      "Epoch 41/100\n",
      "490/490 [==============================] - 3s 6ms/step - loss: 0.0221 - val_loss: 0.0166\n",
      "Epoch 42/100\n",
      "490/490 [==============================] - 3s 6ms/step - loss: 0.0222 - val_loss: 0.0147\n",
      "Epoch 43/100\n",
      "490/490 [==============================] - 3s 7ms/step - loss: 0.0222 - val_loss: 0.0156\n",
      "Epoch 44/100\n",
      "490/490 [==============================] - 3s 7ms/step - loss: 0.0218 - val_loss: 0.0169\n",
      "Epoch 45/100\n",
      "490/490 [==============================] - 3s 7ms/step - loss: 0.0219 - val_loss: 0.0160\n",
      "Epoch 46/100\n",
      "490/490 [==============================] - 4s 7ms/step - loss: 0.0217 - val_loss: 0.0146\n",
      "Epoch 47/100\n",
      "490/490 [==============================] - 3s 6ms/step - loss: 0.0216 - val_loss: 0.0174\n",
      "Epoch 48/100\n",
      "490/490 [==============================] - 3s 7ms/step - loss: 0.0216 - val_loss: 0.0143\n",
      "Epoch 49/100\n",
      "490/490 [==============================] - 3s 6ms/step - loss: 0.0212 - val_loss: 0.0163\n",
      "Epoch 50/100\n",
      "490/490 [==============================] - 3s 6ms/step - loss: 0.0212 - val_loss: 0.0151\n",
      "Epoch 51/100\n",
      "490/490 [==============================] - 3s 7ms/step - loss: 0.0209 - val_loss: 0.0155\n",
      "Epoch 52/100\n",
      "490/490 [==============================] - 3s 7ms/step - loss: 0.0208 - val_loss: 0.0153\n",
      "Epoch 53/100\n",
      "490/490 [==============================] - 4s 7ms/step - loss: 0.0206 - val_loss: 0.0179\n",
      "Epoch 54/100\n",
      "490/490 [==============================] - 3s 7ms/step - loss: 0.0208 - val_loss: 0.0137\n",
      "Epoch 55/100\n",
      "490/490 [==============================] - 3s 7ms/step - loss: 0.0205 - val_loss: 0.0147\n",
      "Epoch 56/100\n",
      "490/490 [==============================] - 3s 7ms/step - loss: 0.0203 - val_loss: 0.0149\n",
      "Epoch 57/100\n",
      "490/490 [==============================] - 3s 7ms/step - loss: 0.0201 - val_loss: 0.0156\n",
      "Epoch 58/100\n",
      "490/490 [==============================] - 3s 6ms/step - loss: 0.0200 - val_loss: 0.0146\n",
      "Epoch 59/100\n",
      "490/490 [==============================] - 3s 6ms/step - loss: 0.0200 - val_loss: 0.0161\n",
      "Epoch 60/100\n",
      "490/490 [==============================] - 3s 6ms/step - loss: 0.0199 - val_loss: 0.0187\n",
      "Epoch 61/100\n",
      "490/490 [==============================] - 3s 7ms/step - loss: 0.0198 - val_loss: 0.0160\n",
      "Epoch 62/100\n",
      "490/490 [==============================] - 3s 7ms/step - loss: 0.0198 - val_loss: 0.0145\n",
      "Epoch 63/100\n",
      "490/490 [==============================] - 3s 7ms/step - loss: 0.0195 - val_loss: 0.0159\n",
      "Epoch 64/100\n",
      "490/490 [==============================] - 3s 7ms/step - loss: 0.0192 - val_loss: 0.0163\n",
      "Epoch 65/100\n",
      "490/490 [==============================] - 3s 6ms/step - loss: 0.0194 - val_loss: 0.0182\n",
      "Epoch 66/100\n",
      "490/490 [==============================] - 4s 7ms/step - loss: 0.0193 - val_loss: 0.0145\n",
      "Epoch 67/100\n",
      "490/490 [==============================] - 3s 7ms/step - loss: 0.0191 - val_loss: 0.0149\n",
      "Epoch 68/100\n",
      "490/490 [==============================] - 4s 7ms/step - loss: 0.0188 - val_loss: 0.0144\n",
      "Epoch 69/100\n",
      "490/490 [==============================] - 4s 8ms/step - loss: 0.0187 - val_loss: 0.0136\n",
      "Epoch 70/100\n",
      "490/490 [==============================] - 3s 7ms/step - loss: 0.0184 - val_loss: 0.0157\n",
      "Epoch 71/100\n",
      "490/490 [==============================] - 3s 6ms/step - loss: 0.0187 - val_loss: 0.0159\n",
      "Epoch 72/100\n",
      "490/490 [==============================] - 3s 7ms/step - loss: 0.0185 - val_loss: 0.0175\n",
      "Epoch 73/100\n",
      "490/490 [==============================] - 3s 7ms/step - loss: 0.0183 - val_loss: 0.0149\n",
      "Epoch 74/100\n",
      "490/490 [==============================] - 3s 7ms/step - loss: 0.0183 - val_loss: 0.0157\n",
      "Epoch 75/100\n",
      "490/490 [==============================] - 3s 6ms/step - loss: 0.0185 - val_loss: 0.0164\n",
      "Epoch 76/100\n",
      "490/490 [==============================] - 3s 7ms/step - loss: 0.0182 - val_loss: 0.0159\n",
      "Epoch 77/100\n",
      "490/490 [==============================] - 3s 7ms/step - loss: 0.0180 - val_loss: 0.0165\n",
      "Epoch 78/100\n",
      "490/490 [==============================] - 3s 7ms/step - loss: 0.0185 - val_loss: 0.0158\n",
      "Epoch 79/100\n",
      "490/490 [==============================] - 4s 7ms/step - loss: 0.0178 - val_loss: 0.0153\n",
      "Epoch 80/100\n",
      "490/490 [==============================] - 3s 7ms/step - loss: 0.0178 - val_loss: 0.0150\n",
      "Epoch 81/100\n"
     ]
    },
    {
     "name": "stdout",
     "output_type": "stream",
     "text": [
      "490/490 [==============================] - 3s 7ms/step - loss: 0.0176 - val_loss: 0.0157\n",
      "Epoch 82/100\n",
      "490/490 [==============================] - 3s 7ms/step - loss: 0.0176 - val_loss: 0.0152\n",
      "Epoch 83/100\n",
      "490/490 [==============================] - 3s 6ms/step - loss: 0.0175 - val_loss: 0.0153\n",
      "Epoch 84/100\n",
      "490/490 [==============================] - 3s 7ms/step - loss: 0.0174 - val_loss: 0.0158\n",
      "Epoch 85/100\n",
      "490/490 [==============================] - 3s 6ms/step - loss: 0.0173 - val_loss: 0.0143\n",
      "Epoch 86/100\n",
      "490/490 [==============================] - 3s 7ms/step - loss: 0.0174 - val_loss: 0.0144\n",
      "Epoch 87/100\n",
      "490/490 [==============================] - 3s 7ms/step - loss: 0.0172 - val_loss: 0.0148\n",
      "Epoch 88/100\n",
      "490/490 [==============================] - 3s 7ms/step - loss: 0.0171 - val_loss: 0.0155\n",
      "Epoch 89/100\n",
      "490/490 [==============================] - 3s 7ms/step - loss: 0.0169 - val_loss: 0.0165\n",
      "Epoch 90/100\n",
      "490/490 [==============================] - 3s 7ms/step - loss: 0.0169 - val_loss: 0.0155\n",
      "Epoch 91/100\n",
      "490/490 [==============================] - 3s 7ms/step - loss: 0.0168 - val_loss: 0.0155\n",
      "Epoch 92/100\n",
      "490/490 [==============================] - 3s 7ms/step - loss: 0.0166 - val_loss: 0.0157\n",
      "Epoch 93/100\n",
      "490/490 [==============================] - 3s 6ms/step - loss: 0.0165 - val_loss: 0.0149\n",
      "Epoch 94/100\n",
      "490/490 [==============================] - 3s 6ms/step - loss: 0.0165 - val_loss: 0.0157\n",
      "Epoch 95/100\n",
      "490/490 [==============================] - 3s 6ms/step - loss: 0.0163 - val_loss: 0.0160\n",
      "Epoch 96/100\n",
      "490/490 [==============================] - 3s 6ms/step - loss: 0.0163 - val_loss: 0.0142\n",
      "Epoch 97/100\n",
      "490/490 [==============================] - 3s 6ms/step - loss: 0.0164 - val_loss: 0.0144\n",
      "Epoch 98/100\n",
      "490/490 [==============================] - 3s 7ms/step - loss: 0.0162 - val_loss: 0.0170\n",
      "Epoch 99/100\n",
      "490/490 [==============================] - 3s 7ms/step - loss: 0.0161 - val_loss: 0.0154\n",
      "Epoch 100/100\n",
      "490/490 [==============================] - 3s 7ms/step - loss: 0.0160 - val_loss: 0.0150\n",
      "Model: \"sequential_2\"\n",
      "_________________________________________________________________\n",
      "Layer (type)                 Output Shape              Param #   \n",
      "=================================================================\n",
      "module_wrapper_4 (ModuleWrap (None, 128)               66560     \n",
      "_________________________________________________________________\n",
      "module_wrapper_5 (ModuleWrap (None, 1)                 129       \n",
      "=================================================================\n",
      "Total params: 66,689\n",
      "Trainable params: 66,689\n",
      "Non-trainable params: 0\n",
      "_________________________________________________________________\n"
     ]
    }
   ],
   "source": [
    "model = build_model(X_train, y_train,X_test,y_test)"
   ]
  },
  {
   "cell_type": "code",
   "execution_count": 32,
   "id": "center-village",
   "metadata": {
    "ExecuteTime": {
     "end_time": "2021-06-30T20:34:35.971013Z",
     "start_time": "2021-06-30T20:34:34.820040Z"
    }
   },
   "outputs": [],
   "source": [
    "y_predicted = model.predict(X_train)"
   ]
  },
  {
   "cell_type": "code",
   "execution_count": 36,
   "id": "leading-settle",
   "metadata": {
    "ExecuteTime": {
     "end_time": "2021-06-30T20:40:06.047203Z",
     "start_time": "2021-06-30T20:40:05.758974Z"
    }
   },
   "outputs": [
    {
     "ename": "AttributeError",
     "evalue": "'numpy.ndarray' object has no attribute 'plot'",
     "output_type": "error",
     "traceback": [
      "\u001b[1;31m---------------------------------------------------------------------------\u001b[0m",
      "\u001b[1;31mAttributeError\u001b[0m                            Traceback (most recent call last)",
      "\u001b[1;32m<ipython-input-36-09834f40169a>\u001b[0m in \u001b[0;36m<module>\u001b[1;34m\u001b[0m\n\u001b[1;32m----> 1\u001b[1;33m \u001b[0my_predicted\u001b[0m\u001b[1;33m.\u001b[0m\u001b[0mplot\u001b[0m\u001b[1;33m(\u001b[0m\u001b[1;33m)\u001b[0m\u001b[1;33m\u001b[0m\u001b[0m\n\u001b[0m\u001b[0;32m      2\u001b[0m \u001b[1;31m#sns.lineplot(x='datas',y=y_predicted[:,0],data=bike[0:15662],label='predicao')\u001b[0m\u001b[1;33m\u001b[0m\u001b[1;33m\u001b[0m\u001b[0m\n",
      "\u001b[1;31mAttributeError\u001b[0m: 'numpy.ndarray' object has no attribute 'plot'"
     ]
    }
   ],
   "source": [
    "sns.lineplot(x='datas',y=y_train[:,0],data=bike[0:len_train],label='treino')\n",
    "sns.lineplot(x='datas',y=y_predicted[:,0],data=bike[0:15662],label='predicao')"
   ]
  },
  {
   "cell_type": "code",
   "execution_count": 34,
   "id": "latest-meditation",
   "metadata": {
    "ExecuteTime": {
     "end_time": "2021-06-30T20:37:16.075523Z",
     "start_time": "2021-06-30T20:37:16.062529Z"
    }
   },
   "outputs": [
    {
     "data": {
      "text/plain": [
       "array([[-0.45854014],\n",
       "       [-0.39271614],\n",
       "       [-0.21110967],\n",
       "       ...,\n",
       "       [-0.9244117 ],\n",
       "       [-0.91080993],\n",
       "       [-0.84761006]], dtype=float32)"
      ]
     },
     "execution_count": 34,
     "metadata": {},
     "output_type": "execute_result"
    }
   ],
   "source": [
    "y_predicted"
   ]
  },
  {
   "cell_type": "code",
   "execution_count": null,
   "id": "electoral-repair",
   "metadata": {},
   "outputs": [],
   "source": []
  },
  {
   "cell_type": "code",
   "execution_count": null,
   "id": "consolidated-chamber",
   "metadata": {},
   "outputs": [],
   "source": []
  },
  {
   "cell_type": "code",
   "execution_count": null,
   "id": "second-access",
   "metadata": {},
   "outputs": [],
   "source": []
  },
  {
   "cell_type": "code",
   "execution_count": null,
   "id": "technical-intelligence",
   "metadata": {},
   "outputs": [],
   "source": []
  },
  {
   "cell_type": "code",
   "execution_count": null,
   "id": "ruled-exemption",
   "metadata": {},
   "outputs": [],
   "source": []
  }
 ],
 "metadata": {
  "kernelspec": {
   "display_name": "Python 3",
   "language": "python",
   "name": "python3"
  },
  "language_info": {
   "codemirror_mode": {
    "name": "ipython",
    "version": 3
   },
   "file_extension": ".py",
   "mimetype": "text/x-python",
   "name": "python",
   "nbconvert_exporter": "python",
   "pygments_lexer": "ipython3",
   "version": "3.6.4"
  },
  "toc": {
   "base_numbering": 1,
   "nav_menu": {},
   "number_sections": true,
   "sideBar": true,
   "skip_h1_title": false,
   "title_cell": "Table of Contents",
   "title_sidebar": "Contents",
   "toc_cell": false,
   "toc_position": {},
   "toc_section_display": true,
   "toc_window_display": false
  }
 },
 "nbformat": 4,
 "nbformat_minor": 5
}
